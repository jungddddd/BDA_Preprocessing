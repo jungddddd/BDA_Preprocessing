{
  "nbformat": 4,
  "nbformat_minor": 0,
  "metadata": {
    "colab": {
      "provenance": []
    },
    "kernelspec": {
      "name": "python3",
      "display_name": "Python 3"
    },
    "language_info": {
      "name": "python"
    }
  },
  "cells": [
    {
      "cell_type": "markdown",
      "source": [
        "## 필수과제 2"
      ],
      "metadata": {
        "id": "Va_i9lV25YoU"
      }
    },
    {
      "cell_type": "markdown",
      "source": [
        "* 리뷰데이터를 전처리하는 코드 ( 정규표현식, 불용어 등으로 처리하여 리뷰데이터 정리 후 )\n",
        "* 해당 전처리는 다 코드랑, 내용 정리해서 어떤식으로 진행했는지 공유해 주세요!\n",
        "* 태깅해서 정리하여 코사인 유사도를 공유해 주세요!"
      ],
      "metadata": {
        "id": "Exaed1-o5ziN"
      }
    },
    {
      "cell_type": "markdown",
      "source": [
        "## 필수과제 2-1"
      ],
      "metadata": {
        "id": "ZdNrB4HW5rIp"
      }
    },
    {
      "cell_type": "markdown",
      "source": [
        "* 전처리하지 않고 베이스로 먼저했던 유사도 리뷰"
      ],
      "metadata": {
        "id": "M7eT41CB54Pa"
      }
    },
    {
      "cell_type": "code",
      "source": [
        "# 라이브러리 불러오기\n",
        "import pandas as pd\n",
        "from sklearn.feature_extraction.text import CountVectorizer\n",
        "from sklearn.metrics.pairwise import cosine_similarity\n",
        "\n",
        "# 데이터 불러오기\n",
        "df = pd.read_csv('movie_rv.csv')\n",
        "\n",
        "# 결측치 제거\n",
        "df_sp = df.dropna()\n",
        "\n",
        "# 텍스트 데이터 추출\n",
        "df_docu = df_sp['document']\n",
        "df_docu"
      ],
      "metadata": {
        "colab": {
          "base_uri": "https://localhost:8080/"
        },
        "id": "meIXmjuntV4l",
        "outputId": "3a1cf3cd-14b5-46e8-a4f1-d2be999af360"
      },
      "execution_count": null,
      "outputs": [
        {
          "output_type": "execute_result",
          "data": {
            "text/plain": [
              "0                                       아 더빙.. 진짜 짜증나네요 목소리\n",
              "1                         흠...포스터보고 초딩영화줄....오버연기조차 가볍지 않구나\n",
              "2                                         너무재밓었다그래서보는것을추천한다\n",
              "3                             교도소 이야기구먼 ..솔직히 재미는 없다..평점 조정\n",
              "4         사이몬페그의 익살스런 연기가 돋보였던 영화!스파이더맨에서 늙어보이기만 했던 커스틴 ...\n",
              "                                ...                        \n",
              "149995                                  인간이 문제지.. 소는 뭔죄인가..\n",
              "149996                                        평점이 너무 낮아서...\n",
              "149997                      이게 뭐요? 한국인은 거들먹거리고 필리핀 혼혈은 착하다?\n",
              "149998                          청춘 영화의 최고봉.방황과 우울했던 날들의 자화상\n",
              "149999                             한국 영화 최초로 수간하는 내용이 담긴 영화\n",
              "Name: document, Length: 149995, dtype: object"
            ]
          },
          "metadata": {},
          "execution_count": 1
        }
      ]
    },
    {
      "cell_type": "code",
      "source": [
        "# CountVectorizer 객체 생성\n",
        "re_cv = CountVectorizer(max_features=5000)\n",
        "\n",
        "# 텍스트의 벡터화 적용\n",
        "re_cnv = re_cv.fit_transform(df_docu)\n",
        "\n",
        "# 기준점 리뷰\n",
        "r = df_docu.loc[4056]\n",
        "r"
      ],
      "metadata": {
        "colab": {
          "base_uri": "https://localhost:8080/",
          "height": 35
        },
        "id": "hhkIcmqwzYFG",
        "outputId": "d9aa6868-3f85-41fb-9a32-00ef446eb3b7"
      },
      "execution_count": null,
      "outputs": [
        {
          "output_type": "execute_result",
          "data": {
            "text/plain": [
              "'따뜻하고 좋은영화 였어요. 근데 인연이란 참 미요한거네요.'"
            ],
            "application/vnd.google.colaboratory.intrinsic+json": {
              "type": "string"
            }
          },
          "metadata": {},
          "execution_count": 13
        }
      ]
    },
    {
      "cell_type": "code",
      "source": [
        "# 텍스트의 벡터화 적용\n",
        "source_rv1 = re_cv.transform([r])\n",
        "\n",
        "# 코사인 유사도 계산\n",
        "sim_res1 = cosine_similarity(source_rv1, re_cnv)\n",
        "\n",
        "# 기준점 리뷰와의 상위 유사도 10개 추출\n",
        "df_docu.loc[(-sim_res1[0]).argsort()[:10]]"
      ],
      "metadata": {
        "colab": {
          "base_uri": "https://localhost:8080/"
        },
        "id": "AZOQVmWfxNwk",
        "outputId": "4ecfc465-8fc8-45b7-e042-e19208e1013e"
      },
      "execution_count": null,
      "outputs": [
        {
          "output_type": "execute_result",
          "data": {
            "text/plain": [
              "4056                       따뜻하고 좋은영화 였어요. 근데 인연이란 참 미요한거네요.\n",
              "58320                               마지막 장면서 화가애인두 죽은걸루 보이는대\n",
              "12201                  이종석 코믹연기 진짜웃김 근데 스토리상 개암걸림 박보영보 완전이쁨\n",
              "112600              원작의 어설픈 변형과 미스 캐스팅..결과는 제작비의 절반만 벌어들임..\n",
              "57363                                                 억지스럽다\n",
              "16526                     별로네여 근데 대성생각보다 잘햇음 연예인더빙 안좋아하는데..\n",
              "83967                                      요즘 귀신은 랜선을 타고~ ~\n",
              "45253     장국영의 황홀한 연기와 날이 선 왕가위의 완벽한 조합. 홍콩에서 왜 늘 위대한 영화...\n",
              "69595                   멜깁슨을 위한 영화. 거칠지만 유쾌한 버디 형사물의 뉴 웨이브.\n",
              "71388                                      너무 아동틱한 영화가 된듯..\n",
              "Name: document, dtype: object"
            ]
          },
          "metadata": {},
          "execution_count": 14
        }
      ]
    },
    {
      "cell_type": "markdown",
      "source": [
        "-> 기준점의 리뷰는 긍정적인데, 부정적인 표현의 리뷰가 많이 보인다. 코사인 유사도가 정확하지 않다고 해석할 수 있고, 전처리가 필수적으로 되어야 한다고 생각한다."
      ],
      "metadata": {
        "id": "ghzyQvua3nlp"
      }
    },
    {
      "cell_type": "markdown",
      "source": [
        "## 필수과제 2-2"
      ],
      "metadata": {
        "id": "hjVE_Z9O5ue_"
      }
    },
    {
      "cell_type": "markdown",
      "source": [
        "* 전처리 후의 베이스로 했던 유사도와의 비교"
      ],
      "metadata": {
        "id": "ZuFo1sLa55-7"
      }
    },
    {
      "cell_type": "markdown",
      "source": [
        "### 정규표현식\n"
      ],
      "metadata": {
        "id": "_RcRVawH02RW"
      }
    },
    {
      "cell_type": "code",
      "source": [
        "# 정규표현식을 통해 초성(ㅋㅋㅋ,ㅠㅠㅠ), 영어, 이모티콘 제거하기\n",
        "\n",
        "import re\n",
        "\n",
        "def RE(review) :\n",
        "  rev = re.sub('[^가-힣\\\\s]', \" \", review) # 한글과 공백만 남기기\n",
        "  return rev\n",
        "\n",
        "# df_docu에 적용\n",
        "re_rev = []\n",
        "for i in df_docu :\n",
        "  re_rev.append(RE(i))\n",
        "\n",
        "re_rev[:10]"
      ],
      "metadata": {
        "colab": {
          "base_uri": "https://localhost:8080/"
        },
        "id": "tKUswnDNQbKR",
        "outputId": "12bf9204-3863-4447-cede-47742c5c0a9c"
      },
      "execution_count": null,
      "outputs": [
        {
          "output_type": "execute_result",
          "data": {
            "text/plain": [
              "['아 더빙   진짜 짜증나네요 목소리',\n",
              " '흠   포스터보고 초딩영화줄    오버연기조차 가볍지 않구나',\n",
              " '너무재밓었다그래서보는것을추천한다',\n",
              " '교도소 이야기구먼   솔직히 재미는 없다  평점 조정',\n",
              " '사이몬페그의 익살스런 연기가 돋보였던 영화 스파이더맨에서 늙어보이기만 했던 커스틴 던스트가 너무나도 이뻐보였다',\n",
              " '막 걸음마 뗀  세부터 초등학교  학년생인  살용영화       별반개도 아까움 ',\n",
              " '원작의 긴장감을 제대로 살려내지못했다 ',\n",
              " '별 반개도 아깝다 욕나온다 이응경 길용우 연기생활이몇년인지  정말 발로해도 그것보단 낫겟다 납치 감금만반복반복  이드라마는 가족도없다 연기못하는사람만모엿네',\n",
              " '액션이 없는데도 재미 있는 몇안되는 영화',\n",
              " '왜케 평점이 낮은건데  꽤 볼만한데   헐리우드식 화려함에만 너무 길들여져 있나 ']"
            ]
          },
          "metadata": {},
          "execution_count": 4
        }
      ]
    },
    {
      "cell_type": "markdown",
      "source": [
        "### 형태소 분리"
      ],
      "metadata": {
        "id": "XFUjPtr6001P"
      }
    },
    {
      "cell_type": "code",
      "source": [
        "# konlpy 패키지 설치\n",
        "! pip install konlpy"
      ],
      "metadata": {
        "colab": {
          "base_uri": "https://localhost:8080/"
        },
        "id": "4JnC-B0a1B9M",
        "outputId": "20513c1a-b516-47ad-ec71-46fddafd2388"
      },
      "execution_count": null,
      "outputs": [
        {
          "output_type": "stream",
          "name": "stdout",
          "text": [
            "Requirement already satisfied: konlpy in /usr/local/lib/python3.10/dist-packages (0.6.0)\n",
            "Requirement already satisfied: JPype1>=0.7.0 in /usr/local/lib/python3.10/dist-packages (from konlpy) (1.5.0)\n",
            "Requirement already satisfied: lxml>=4.1.0 in /usr/local/lib/python3.10/dist-packages (from konlpy) (4.9.4)\n",
            "Requirement already satisfied: numpy>=1.6 in /usr/local/lib/python3.10/dist-packages (from konlpy) (1.25.2)\n",
            "Requirement already satisfied: packaging in /usr/local/lib/python3.10/dist-packages (from JPype1>=0.7.0->konlpy) (24.0)\n"
          ]
        }
      ]
    },
    {
      "cell_type": "code",
      "source": [
        "# konlpy 패키지 불러오기\n",
        "from konlpy.tag import Okt\n",
        "\n",
        "# Okt 객체 생성\n",
        "tw_tag = Okt()\n",
        "\n",
        "# 토크나이저 함수 생성\n",
        "def my_token(doc):\n",
        "    return [token for token, pos in tw_tag.pos(doc) if pos in ['Noun', 'Verb', 'Adjective', 'Adverb']]\n",
        "\n",
        "# 하이퍼파라미터에 함수 활용\n",
        "re_cv_mt = CountVectorizer(max_features=5000, tokenizer= my_token)\n",
        "\n",
        "# 텍스트의 벡터화 적용\n",
        "re_cnv_mt=re_cv_mt.fit_transform(re_rev)\n",
        "\n",
        "# 내가 선정한 피처들은 무엇이 있는지?\n",
        "re_cv_mt.get_feature_names_out()[:100]"
      ],
      "metadata": {
        "colab": {
          "base_uri": "https://localhost:8080/"
        },
        "id": "CQBU5k3frzPX",
        "outputId": "96b7647c-0e2b-4481-f2aa-06c0b362de6b"
      },
      "execution_count": null,
      "outputs": [
        {
          "output_type": "stream",
          "name": "stderr",
          "text": [
            "/usr/local/lib/python3.10/dist-packages/sklearn/feature_extraction/text.py:528: UserWarning: The parameter 'token_pattern' will not be used since 'tokenizer' is not None'\n",
            "  warnings.warn(\n"
          ]
        },
        {
          "output_type": "execute_result",
          "data": {
            "text/plain": [
              "array(['가', '가끔', '가는', '가서', '가슴', '가장', '가족', '가지', '가치', '각본', '간다',\n",
              "       '간만', '갈수록', '감', '감독', '감동', '감사합니다', '감상', '감성', '감정', '갑자기',\n",
              "       '강', '강추', '같네요', '같다', '같습니다', '같아', '같아서', '같아요', '같은', '같은데',\n",
              "       '같음', '같이', '개', '개그', '개봉', '개연', '개인', '걍', '거', '거기', '거리',\n",
              "       '거의', '거지', '건', '건가', '건지', '걸', '걸작', '것', '게', '게임', '결국', '결론',\n",
              "       '결말', '결혼', '경찰', '계속', '고', '곳', '공감', '공포', '공포영화', '과', '과거',\n",
              "       '과정', '관', '관객', '관계', '관람', '관심', '광고', '괜찮은', '괜히', '굉장히', '교훈',\n",
              "       '구', '구성', '군대', '굳', '굿', '귀신', '그', '그것', '그게', '그나마', '그냥',\n",
              "       '그녀', '그닥', '그대로', '그때', '그래', '그래도', '그래서', '그래픽', '그런', '그런지',\n",
              "       '그렇게', '그렇고', '그리'], dtype=object)"
            ]
          },
          "metadata": {},
          "execution_count": 6
        }
      ]
    },
    {
      "cell_type": "markdown",
      "source": [
        "### 불용어 처리하기"
      ],
      "metadata": {
        "id": "XXIFQHD35DgD"
      }
    },
    {
      "cell_type": "code",
      "source": [
        "# 불용어 리스트 생성하기 위한 형태소 개수 파악\n",
        "words = re_cv_mt.get_feature_names_out()\n",
        "count = re_cnv_mt.sum(axis=0).tolist()[0]\n",
        "\n",
        "# 데이터프레임 생성\n",
        "df_count = pd.DataFrame({'Word': words, 'Count': count})\n",
        "\n",
        "# 가장 많이 쓰인 형태소 30개 추출\n",
        "df_count_sorted = df_count.sort_values(by='Count', ascending=False)\n",
        "df_count_sorted.head(50)"
      ],
      "metadata": {
        "colab": {
          "base_uri": "https://localhost:8080/",
          "height": 1000
        },
        "id": "FqpTkubZ8uck",
        "outputId": "d5b005bb-f060-42f7-e1ff-d32ac6ed3451"
      },
      "execution_count": null,
      "outputs": [
        {
          "output_type": "execute_result",
          "data": {
            "text/plain": [
              "    Word  Count\n",
              "618   영화  50808\n",
              "157   너무  11138\n",
              "783   정말   9647\n",
              "847   진짜   8345\n",
              "670    이   8003\n",
              "775    점   7932\n",
              "605   연기   6434\n",
              "915   평점   6325\n",
              "49     것   6319\n",
              "877   최고   6038\n",
              "479  스토리   5344\n",
              "445   생각   5316\n",
              "186    다   5248\n",
              "638    왜   5159\n",
              "241  드라마   5072\n",
              "15    감동   4881\n",
              "426   사람   4839\n",
              "932   하는   4742\n",
              "364   보고   4705\n",
              "288    말   4567\n",
              "213    더   4368\n",
              "252    때   4319\n",
              "152    내   4308\n",
              "353   배우   4299\n",
              "39     거   4142\n",
              "14    감독   4128\n",
              "734   재미   3930\n",
              "482   시간   3911\n",
              "154   내용   3899\n",
              "86    그냥   3838\n",
              "329    뭐   3817\n",
              "82     그   3698\n",
              "800    좀   3668\n",
              "672   이런   3602\n",
              "500  쓰레기   3545\n",
              "584   없는   3492\n",
              "468    수   3253\n",
              "126    나   3074\n",
              "398  봤는데   3059\n",
              "724   작품   2980\n",
              "427   사랑   2944\n",
              "950    할   2929\n",
              "726    잘   2875\n",
              "585   없다   2868\n",
              "191   다시   2842\n",
              "928   하나   2840\n",
              "387    볼   2836\n",
              "272  마지막   2758\n",
              "671   이건   2688\n",
              "385    본   2669"
            ],
            "text/html": [
              "\n",
              "  <div id=\"df-b73ee374-2e12-4ebf-9bba-4240784f9b6c\" class=\"colab-df-container\">\n",
              "    <div>\n",
              "<style scoped>\n",
              "    .dataframe tbody tr th:only-of-type {\n",
              "        vertical-align: middle;\n",
              "    }\n",
              "\n",
              "    .dataframe tbody tr th {\n",
              "        vertical-align: top;\n",
              "    }\n",
              "\n",
              "    .dataframe thead th {\n",
              "        text-align: right;\n",
              "    }\n",
              "</style>\n",
              "<table border=\"1\" class=\"dataframe\">\n",
              "  <thead>\n",
              "    <tr style=\"text-align: right;\">\n",
              "      <th></th>\n",
              "      <th>Word</th>\n",
              "      <th>Count</th>\n",
              "    </tr>\n",
              "  </thead>\n",
              "  <tbody>\n",
              "    <tr>\n",
              "      <th>618</th>\n",
              "      <td>영화</td>\n",
              "      <td>50808</td>\n",
              "    </tr>\n",
              "    <tr>\n",
              "      <th>157</th>\n",
              "      <td>너무</td>\n",
              "      <td>11138</td>\n",
              "    </tr>\n",
              "    <tr>\n",
              "      <th>783</th>\n",
              "      <td>정말</td>\n",
              "      <td>9647</td>\n",
              "    </tr>\n",
              "    <tr>\n",
              "      <th>847</th>\n",
              "      <td>진짜</td>\n",
              "      <td>8345</td>\n",
              "    </tr>\n",
              "    <tr>\n",
              "      <th>670</th>\n",
              "      <td>이</td>\n",
              "      <td>8003</td>\n",
              "    </tr>\n",
              "    <tr>\n",
              "      <th>775</th>\n",
              "      <td>점</td>\n",
              "      <td>7932</td>\n",
              "    </tr>\n",
              "    <tr>\n",
              "      <th>605</th>\n",
              "      <td>연기</td>\n",
              "      <td>6434</td>\n",
              "    </tr>\n",
              "    <tr>\n",
              "      <th>915</th>\n",
              "      <td>평점</td>\n",
              "      <td>6325</td>\n",
              "    </tr>\n",
              "    <tr>\n",
              "      <th>49</th>\n",
              "      <td>것</td>\n",
              "      <td>6319</td>\n",
              "    </tr>\n",
              "    <tr>\n",
              "      <th>877</th>\n",
              "      <td>최고</td>\n",
              "      <td>6038</td>\n",
              "    </tr>\n",
              "    <tr>\n",
              "      <th>479</th>\n",
              "      <td>스토리</td>\n",
              "      <td>5344</td>\n",
              "    </tr>\n",
              "    <tr>\n",
              "      <th>445</th>\n",
              "      <td>생각</td>\n",
              "      <td>5316</td>\n",
              "    </tr>\n",
              "    <tr>\n",
              "      <th>186</th>\n",
              "      <td>다</td>\n",
              "      <td>5248</td>\n",
              "    </tr>\n",
              "    <tr>\n",
              "      <th>638</th>\n",
              "      <td>왜</td>\n",
              "      <td>5159</td>\n",
              "    </tr>\n",
              "    <tr>\n",
              "      <th>241</th>\n",
              "      <td>드라마</td>\n",
              "      <td>5072</td>\n",
              "    </tr>\n",
              "    <tr>\n",
              "      <th>15</th>\n",
              "      <td>감동</td>\n",
              "      <td>4881</td>\n",
              "    </tr>\n",
              "    <tr>\n",
              "      <th>426</th>\n",
              "      <td>사람</td>\n",
              "      <td>4839</td>\n",
              "    </tr>\n",
              "    <tr>\n",
              "      <th>932</th>\n",
              "      <td>하는</td>\n",
              "      <td>4742</td>\n",
              "    </tr>\n",
              "    <tr>\n",
              "      <th>364</th>\n",
              "      <td>보고</td>\n",
              "      <td>4705</td>\n",
              "    </tr>\n",
              "    <tr>\n",
              "      <th>288</th>\n",
              "      <td>말</td>\n",
              "      <td>4567</td>\n",
              "    </tr>\n",
              "    <tr>\n",
              "      <th>213</th>\n",
              "      <td>더</td>\n",
              "      <td>4368</td>\n",
              "    </tr>\n",
              "    <tr>\n",
              "      <th>252</th>\n",
              "      <td>때</td>\n",
              "      <td>4319</td>\n",
              "    </tr>\n",
              "    <tr>\n",
              "      <th>152</th>\n",
              "      <td>내</td>\n",
              "      <td>4308</td>\n",
              "    </tr>\n",
              "    <tr>\n",
              "      <th>353</th>\n",
              "      <td>배우</td>\n",
              "      <td>4299</td>\n",
              "    </tr>\n",
              "    <tr>\n",
              "      <th>39</th>\n",
              "      <td>거</td>\n",
              "      <td>4142</td>\n",
              "    </tr>\n",
              "    <tr>\n",
              "      <th>14</th>\n",
              "      <td>감독</td>\n",
              "      <td>4128</td>\n",
              "    </tr>\n",
              "    <tr>\n",
              "      <th>734</th>\n",
              "      <td>재미</td>\n",
              "      <td>3930</td>\n",
              "    </tr>\n",
              "    <tr>\n",
              "      <th>482</th>\n",
              "      <td>시간</td>\n",
              "      <td>3911</td>\n",
              "    </tr>\n",
              "    <tr>\n",
              "      <th>154</th>\n",
              "      <td>내용</td>\n",
              "      <td>3899</td>\n",
              "    </tr>\n",
              "    <tr>\n",
              "      <th>86</th>\n",
              "      <td>그냥</td>\n",
              "      <td>3838</td>\n",
              "    </tr>\n",
              "    <tr>\n",
              "      <th>329</th>\n",
              "      <td>뭐</td>\n",
              "      <td>3817</td>\n",
              "    </tr>\n",
              "    <tr>\n",
              "      <th>82</th>\n",
              "      <td>그</td>\n",
              "      <td>3698</td>\n",
              "    </tr>\n",
              "    <tr>\n",
              "      <th>800</th>\n",
              "      <td>좀</td>\n",
              "      <td>3668</td>\n",
              "    </tr>\n",
              "    <tr>\n",
              "      <th>672</th>\n",
              "      <td>이런</td>\n",
              "      <td>3602</td>\n",
              "    </tr>\n",
              "    <tr>\n",
              "      <th>500</th>\n",
              "      <td>쓰레기</td>\n",
              "      <td>3545</td>\n",
              "    </tr>\n",
              "    <tr>\n",
              "      <th>584</th>\n",
              "      <td>없는</td>\n",
              "      <td>3492</td>\n",
              "    </tr>\n",
              "    <tr>\n",
              "      <th>468</th>\n",
              "      <td>수</td>\n",
              "      <td>3253</td>\n",
              "    </tr>\n",
              "    <tr>\n",
              "      <th>126</th>\n",
              "      <td>나</td>\n",
              "      <td>3074</td>\n",
              "    </tr>\n",
              "    <tr>\n",
              "      <th>398</th>\n",
              "      <td>봤는데</td>\n",
              "      <td>3059</td>\n",
              "    </tr>\n",
              "    <tr>\n",
              "      <th>724</th>\n",
              "      <td>작품</td>\n",
              "      <td>2980</td>\n",
              "    </tr>\n",
              "    <tr>\n",
              "      <th>427</th>\n",
              "      <td>사랑</td>\n",
              "      <td>2944</td>\n",
              "    </tr>\n",
              "    <tr>\n",
              "      <th>950</th>\n",
              "      <td>할</td>\n",
              "      <td>2929</td>\n",
              "    </tr>\n",
              "    <tr>\n",
              "      <th>726</th>\n",
              "      <td>잘</td>\n",
              "      <td>2875</td>\n",
              "    </tr>\n",
              "    <tr>\n",
              "      <th>585</th>\n",
              "      <td>없다</td>\n",
              "      <td>2868</td>\n",
              "    </tr>\n",
              "    <tr>\n",
              "      <th>191</th>\n",
              "      <td>다시</td>\n",
              "      <td>2842</td>\n",
              "    </tr>\n",
              "    <tr>\n",
              "      <th>928</th>\n",
              "      <td>하나</td>\n",
              "      <td>2840</td>\n",
              "    </tr>\n",
              "    <tr>\n",
              "      <th>387</th>\n",
              "      <td>볼</td>\n",
              "      <td>2836</td>\n",
              "    </tr>\n",
              "    <tr>\n",
              "      <th>272</th>\n",
              "      <td>마지막</td>\n",
              "      <td>2758</td>\n",
              "    </tr>\n",
              "    <tr>\n",
              "      <th>671</th>\n",
              "      <td>이건</td>\n",
              "      <td>2688</td>\n",
              "    </tr>\n",
              "    <tr>\n",
              "      <th>385</th>\n",
              "      <td>본</td>\n",
              "      <td>2669</td>\n",
              "    </tr>\n",
              "  </tbody>\n",
              "</table>\n",
              "</div>\n",
              "    <div class=\"colab-df-buttons\">\n",
              "\n",
              "  <div class=\"colab-df-container\">\n",
              "    <button class=\"colab-df-convert\" onclick=\"convertToInteractive('df-b73ee374-2e12-4ebf-9bba-4240784f9b6c')\"\n",
              "            title=\"Convert this dataframe to an interactive table.\"\n",
              "            style=\"display:none;\">\n",
              "\n",
              "  <svg xmlns=\"http://www.w3.org/2000/svg\" height=\"24px\" viewBox=\"0 -960 960 960\">\n",
              "    <path d=\"M120-120v-720h720v720H120Zm60-500h600v-160H180v160Zm220 220h160v-160H400v160Zm0 220h160v-160H400v160ZM180-400h160v-160H180v160Zm440 0h160v-160H620v160ZM180-180h160v-160H180v160Zm440 0h160v-160H620v160Z\"/>\n",
              "  </svg>\n",
              "    </button>\n",
              "\n",
              "  <style>\n",
              "    .colab-df-container {\n",
              "      display:flex;\n",
              "      gap: 12px;\n",
              "    }\n",
              "\n",
              "    .colab-df-convert {\n",
              "      background-color: #E8F0FE;\n",
              "      border: none;\n",
              "      border-radius: 50%;\n",
              "      cursor: pointer;\n",
              "      display: none;\n",
              "      fill: #1967D2;\n",
              "      height: 32px;\n",
              "      padding: 0 0 0 0;\n",
              "      width: 32px;\n",
              "    }\n",
              "\n",
              "    .colab-df-convert:hover {\n",
              "      background-color: #E2EBFA;\n",
              "      box-shadow: 0px 1px 2px rgba(60, 64, 67, 0.3), 0px 1px 3px 1px rgba(60, 64, 67, 0.15);\n",
              "      fill: #174EA6;\n",
              "    }\n",
              "\n",
              "    .colab-df-buttons div {\n",
              "      margin-bottom: 4px;\n",
              "    }\n",
              "\n",
              "    [theme=dark] .colab-df-convert {\n",
              "      background-color: #3B4455;\n",
              "      fill: #D2E3FC;\n",
              "    }\n",
              "\n",
              "    [theme=dark] .colab-df-convert:hover {\n",
              "      background-color: #434B5C;\n",
              "      box-shadow: 0px 1px 3px 1px rgba(0, 0, 0, 0.15);\n",
              "      filter: drop-shadow(0px 1px 2px rgba(0, 0, 0, 0.3));\n",
              "      fill: #FFFFFF;\n",
              "    }\n",
              "  </style>\n",
              "\n",
              "    <script>\n",
              "      const buttonEl =\n",
              "        document.querySelector('#df-b73ee374-2e12-4ebf-9bba-4240784f9b6c button.colab-df-convert');\n",
              "      buttonEl.style.display =\n",
              "        google.colab.kernel.accessAllowed ? 'block' : 'none';\n",
              "\n",
              "      async function convertToInteractive(key) {\n",
              "        const element = document.querySelector('#df-b73ee374-2e12-4ebf-9bba-4240784f9b6c');\n",
              "        const dataTable =\n",
              "          await google.colab.kernel.invokeFunction('convertToInteractive',\n",
              "                                                    [key], {});\n",
              "        if (!dataTable) return;\n",
              "\n",
              "        const docLinkHtml = 'Like what you see? Visit the ' +\n",
              "          '<a target=\"_blank\" href=https://colab.research.google.com/notebooks/data_table.ipynb>data table notebook</a>'\n",
              "          + ' to learn more about interactive tables.';\n",
              "        element.innerHTML = '';\n",
              "        dataTable['output_type'] = 'display_data';\n",
              "        await google.colab.output.renderOutput(dataTable, element);\n",
              "        const docLink = document.createElement('div');\n",
              "        docLink.innerHTML = docLinkHtml;\n",
              "        element.appendChild(docLink);\n",
              "      }\n",
              "    </script>\n",
              "  </div>\n",
              "\n",
              "\n",
              "<div id=\"df-c60bff53-3f76-42f3-a0bf-9d65ad3a2b42\">\n",
              "  <button class=\"colab-df-quickchart\" onclick=\"quickchart('df-c60bff53-3f76-42f3-a0bf-9d65ad3a2b42')\"\n",
              "            title=\"Suggest charts\"\n",
              "            style=\"display:none;\">\n",
              "\n",
              "<svg xmlns=\"http://www.w3.org/2000/svg\" height=\"24px\"viewBox=\"0 0 24 24\"\n",
              "     width=\"24px\">\n",
              "    <g>\n",
              "        <path d=\"M19 3H5c-1.1 0-2 .9-2 2v14c0 1.1.9 2 2 2h14c1.1 0 2-.9 2-2V5c0-1.1-.9-2-2-2zM9 17H7v-7h2v7zm4 0h-2V7h2v10zm4 0h-2v-4h2v4z\"/>\n",
              "    </g>\n",
              "</svg>\n",
              "  </button>\n",
              "\n",
              "<style>\n",
              "  .colab-df-quickchart {\n",
              "      --bg-color: #E8F0FE;\n",
              "      --fill-color: #1967D2;\n",
              "      --hover-bg-color: #E2EBFA;\n",
              "      --hover-fill-color: #174EA6;\n",
              "      --disabled-fill-color: #AAA;\n",
              "      --disabled-bg-color: #DDD;\n",
              "  }\n",
              "\n",
              "  [theme=dark] .colab-df-quickchart {\n",
              "      --bg-color: #3B4455;\n",
              "      --fill-color: #D2E3FC;\n",
              "      --hover-bg-color: #434B5C;\n",
              "      --hover-fill-color: #FFFFFF;\n",
              "      --disabled-bg-color: #3B4455;\n",
              "      --disabled-fill-color: #666;\n",
              "  }\n",
              "\n",
              "  .colab-df-quickchart {\n",
              "    background-color: var(--bg-color);\n",
              "    border: none;\n",
              "    border-radius: 50%;\n",
              "    cursor: pointer;\n",
              "    display: none;\n",
              "    fill: var(--fill-color);\n",
              "    height: 32px;\n",
              "    padding: 0;\n",
              "    width: 32px;\n",
              "  }\n",
              "\n",
              "  .colab-df-quickchart:hover {\n",
              "    background-color: var(--hover-bg-color);\n",
              "    box-shadow: 0 1px 2px rgba(60, 64, 67, 0.3), 0 1px 3px 1px rgba(60, 64, 67, 0.15);\n",
              "    fill: var(--button-hover-fill-color);\n",
              "  }\n",
              "\n",
              "  .colab-df-quickchart-complete:disabled,\n",
              "  .colab-df-quickchart-complete:disabled:hover {\n",
              "    background-color: var(--disabled-bg-color);\n",
              "    fill: var(--disabled-fill-color);\n",
              "    box-shadow: none;\n",
              "  }\n",
              "\n",
              "  .colab-df-spinner {\n",
              "    border: 2px solid var(--fill-color);\n",
              "    border-color: transparent;\n",
              "    border-bottom-color: var(--fill-color);\n",
              "    animation:\n",
              "      spin 1s steps(1) infinite;\n",
              "  }\n",
              "\n",
              "  @keyframes spin {\n",
              "    0% {\n",
              "      border-color: transparent;\n",
              "      border-bottom-color: var(--fill-color);\n",
              "      border-left-color: var(--fill-color);\n",
              "    }\n",
              "    20% {\n",
              "      border-color: transparent;\n",
              "      border-left-color: var(--fill-color);\n",
              "      border-top-color: var(--fill-color);\n",
              "    }\n",
              "    30% {\n",
              "      border-color: transparent;\n",
              "      border-left-color: var(--fill-color);\n",
              "      border-top-color: var(--fill-color);\n",
              "      border-right-color: var(--fill-color);\n",
              "    }\n",
              "    40% {\n",
              "      border-color: transparent;\n",
              "      border-right-color: var(--fill-color);\n",
              "      border-top-color: var(--fill-color);\n",
              "    }\n",
              "    60% {\n",
              "      border-color: transparent;\n",
              "      border-right-color: var(--fill-color);\n",
              "    }\n",
              "    80% {\n",
              "      border-color: transparent;\n",
              "      border-right-color: var(--fill-color);\n",
              "      border-bottom-color: var(--fill-color);\n",
              "    }\n",
              "    90% {\n",
              "      border-color: transparent;\n",
              "      border-bottom-color: var(--fill-color);\n",
              "    }\n",
              "  }\n",
              "</style>\n",
              "\n",
              "  <script>\n",
              "    async function quickchart(key) {\n",
              "      const quickchartButtonEl =\n",
              "        document.querySelector('#' + key + ' button');\n",
              "      quickchartButtonEl.disabled = true;  // To prevent multiple clicks.\n",
              "      quickchartButtonEl.classList.add('colab-df-spinner');\n",
              "      try {\n",
              "        const charts = await google.colab.kernel.invokeFunction(\n",
              "            'suggestCharts', [key], {});\n",
              "      } catch (error) {\n",
              "        console.error('Error during call to suggestCharts:', error);\n",
              "      }\n",
              "      quickchartButtonEl.classList.remove('colab-df-spinner');\n",
              "      quickchartButtonEl.classList.add('colab-df-quickchart-complete');\n",
              "    }\n",
              "    (() => {\n",
              "      let quickchartButtonEl =\n",
              "        document.querySelector('#df-c60bff53-3f76-42f3-a0bf-9d65ad3a2b42 button');\n",
              "      quickchartButtonEl.style.display =\n",
              "        google.colab.kernel.accessAllowed ? 'block' : 'none';\n",
              "    })();\n",
              "  </script>\n",
              "</div>\n",
              "\n",
              "    </div>\n",
              "  </div>\n"
            ],
            "application/vnd.google.colaboratory.intrinsic+json": {
              "type": "dataframe",
              "variable_name": "df_count_sorted",
              "summary": "{\n  \"name\": \"df_count_sorted\",\n  \"rows\": 1000,\n  \"fields\": [\n    {\n      \"column\": \"Word\",\n      \"properties\": {\n        \"dtype\": \"string\",\n        \"num_unique_values\": 1000,\n        \"samples\": [\n          \"\\uc21c\\uac04\",\n          \"\\uc788\\uac8c\",\n          \"\\ud654\\uac00\"\n        ],\n        \"semantic_type\": \"\",\n        \"description\": \"\"\n      }\n    },\n    {\n      \"column\": \"Count\",\n      \"properties\": {\n        \"dtype\": \"number\",\n        \"std\": 1902,\n        \"min\": 195,\n        \"max\": 50808,\n        \"num_unique_values\": 585,\n        \"samples\": [\n          442,\n          381,\n          1661\n        ],\n        \"semantic_type\": \"\",\n        \"description\": \"\"\n      }\n    }\n  ]\n}"
            }
          },
          "metadata": {},
          "execution_count": 7
        }
      ]
    },
    {
      "cell_type": "code",
      "source": [
        "stop_words = ['이', '점', '것', '다', '하는', '때', '내', '거', '뭐', '그', '좀', '이런', '할', '이건' ]\n",
        "\n",
        "# 하이퍼파라미터에 함수 활용\n",
        "re_cv_sw = CountVectorizer(max_features=5000, tokenizer= my_token, stop_words= stop_words)\n",
        "\n",
        "# 텍스트의 벡터화 적용\n",
        "re_cnv_sw=re_cv_sw.fit_transform(re_rev)\n",
        "\n",
        "# 내가 선정한 피처들은 무엇이 있는지?\n",
        "re_cv_sw.get_feature_names_out()[:100]"
      ],
      "metadata": {
        "colab": {
          "base_uri": "https://localhost:8080/"
        },
        "id": "co_d4JoD5zGc",
        "outputId": "b5c1c148-244f-421a-80c5-f2fa2c7f2fdc"
      },
      "execution_count": null,
      "outputs": [
        {
          "output_type": "stream",
          "name": "stderr",
          "text": [
            "/usr/local/lib/python3.10/dist-packages/sklearn/feature_extraction/text.py:528: UserWarning: The parameter 'token_pattern' will not be used since 'tokenizer' is not None'\n",
            "  warnings.warn(\n"
          ]
        },
        {
          "output_type": "execute_result",
          "data": {
            "text/plain": [
              "array(['가', '가끔', '가는', '가서', '가슴', '가장', '가족', '가지', '가치', '각본', '간다',\n",
              "       '간만', '갈수록', '감', '감독', '감동', '감사합니다', '감상', '감성', '감정', '갑자기',\n",
              "       '강', '강추', '같네요', '같다', '같습니다', '같아', '같아서', '같아요', '같은', '같은데',\n",
              "       '같음', '같이', '개', '개그', '개봉', '개연', '개인', '걍', '거기', '거리', '거의',\n",
              "       '거지', '건', '건가', '건지', '걸', '걸작', '게', '게임', '결국', '결론', '결말',\n",
              "       '결혼', '경찰', '계속', '고', '고민', '고생', '곳', '공감', '공포', '공포영화', '과',\n",
              "       '과거', '과정', '관', '관객', '관계', '관람', '관심', '광고', '괜찮은', '괜히', '굉장히',\n",
              "       '교훈', '구', '구성', '군대', '굳', '굿', '귀신', '그것', '그게', '그나마', '그냥',\n",
              "       '그녀', '그닥', '그대로', '그때', '그래', '그래도', '그래서', '그래픽', '그런', '그런지',\n",
              "       '그렇게', '그렇고', '그리', '그림'], dtype=object)"
            ]
          },
          "metadata": {},
          "execution_count": 8
        }
      ]
    },
    {
      "cell_type": "markdown",
      "source": [
        "* 전처리 후 코사인 유사도 비교"
      ],
      "metadata": {
        "id": "BsciviJ6Jc1p"
      }
    },
    {
      "cell_type": "code",
      "source": [
        "# 기준점 리뷰\n",
        "r = df_docu.loc[4056]\n",
        "r"
      ],
      "metadata": {
        "colab": {
          "base_uri": "https://localhost:8080/",
          "height": 35
        },
        "id": "sNDsumEvJgVo",
        "outputId": "de3311c4-8127-4da3-e575-a832423aebd0"
      },
      "execution_count": null,
      "outputs": [
        {
          "output_type": "execute_result",
          "data": {
            "text/plain": [
              "'따뜻하고 좋은영화 였어요. 근데 인연이란 참 미요한거네요.'"
            ],
            "application/vnd.google.colaboratory.intrinsic+json": {
              "type": "string"
            }
          },
          "metadata": {},
          "execution_count": 15
        }
      ]
    },
    {
      "cell_type": "code",
      "source": [
        "# 텍스트의 벡터화 적용\n",
        "source_rv2 = re_cv_sw.transform([r])\n",
        "\n",
        "# 코사인 유사도 계산\n",
        "sim_res2 = cosine_similarity(source_rv2, re_cnv_sw)\n",
        "\n",
        "# 기준점 리뷰와의 상위 유사도 10개 추출\n",
        "df_docu.loc[(-sim_res2[0]).argsort()[:10]]"
      ],
      "metadata": {
        "colab": {
          "base_uri": "https://localhost:8080/"
        },
        "id": "aIX-fLpgKW6w",
        "outputId": "075a9391-b9d2-4274-902d-bcff6bca62b8"
      },
      "execution_count": null,
      "outputs": [
        {
          "output_type": "execute_result",
          "data": {
            "text/plain": [
              "4056             따뜻하고 좋은영화 였어요. 근데 인연이란 참 미요한거네요.\n",
              "85179                                     고잉홈 슬펐다\n",
              "60148            심각하게 재밌습니다 삼십분 드라마라는게 원망스러울정도입니다\n",
              "113567        새로 나올수록 내리막길 걷는 주온시리즈입니다..비디오판 강추..\n",
              "62436                                       총체적난국\n",
              "109832               대학1학년때 얼마나 재밋게 반는지~~~책도보고 ㅋㅋ\n",
              "48637                    재미없어 쓰레기.. 2점부터 점수준것들 M창\n",
              "52809                              뭐지 결국엔 성형이 답이네\n",
              "139708               언제 봐도 재미있는 영화 참 보면서 뭔가 느껴지네요\n",
              "149217    샤를로뜨 갱스부르 팬이라면 볼만한 영화, OST가 웃음 포인트일줄이야.\n",
              "Name: document, dtype: object"
            ]
          },
          "metadata": {},
          "execution_count": 16
        }
      ]
    },
    {
      "cell_type": "markdown",
      "source": [
        "-> 전처리 전보다 부정적인 표현의 리뷰가 줄어들고, 긍정적인 표현의 리뷰가 늘어났다. 전처리 후 유사한 변수를 보다 더 잘 찾아낸 것으로 해석할 수 있다."
      ],
      "metadata": {
        "id": "slmoR-dHLRTU"
      }
    }
  ]
}
